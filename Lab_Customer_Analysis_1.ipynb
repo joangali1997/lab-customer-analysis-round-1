{
  "nbformat": 4,
  "nbformat_minor": 0,
  "metadata": {
    "colab": {
      "name": "Lab - Customer Analysis 1",
      "provenance": [],
      "collapsed_sections": []
    },
    "kernelspec": {
      "name": "python3",
      "display_name": "Python 3"
    },
    "language_info": {
      "name": "python"
    }
  },
  "cells": [
    {
      "cell_type": "code",
      "metadata": {
        "id": "6iBE8V7q8-z6"
      },
      "source": [
        "import pandas as pd\n",
        "import numpy as np"
      ],
      "execution_count": 38,
      "outputs": []
    },
    {
      "cell_type": "code",
      "metadata": {
        "id": "TnWGtX1o9j5Z"
      },
      "source": [
        "file1 = pd.read_csv('file1.csv')\n",
        "file2 = pd.read_csv('file2.csv')\n",
        "file3 = pd.read_csv('file3.csv')"
      ],
      "execution_count": 39,
      "outputs": []
    },
    {
      "cell_type": "code",
      "metadata": {
        "colab": {
          "base_uri": "https://localhost:8080/"
        },
        "id": "lD7VI5TE9t7I",
        "outputId": "fa1900f6-c685-4fa0-8047-78825a54c956"
      },
      "source": [
        "file1.shape"
      ],
      "execution_count": 40,
      "outputs": [
        {
          "output_type": "execute_result",
          "data": {
            "text/plain": [
              "(4008, 11)"
            ]
          },
          "metadata": {
            "tags": []
          },
          "execution_count": 40
        }
      ]
    },
    {
      "cell_type": "code",
      "metadata": {
        "colab": {
          "base_uri": "https://localhost:8080/"
        },
        "id": "rzeCq0uF-BwK",
        "outputId": "b4e1f66d-9e7e-473b-b248-0dbb5ed4377f"
      },
      "source": [
        "file2.shape\n",
        "file3.shape"
      ],
      "execution_count": 41,
      "outputs": [
        {
          "output_type": "execute_result",
          "data": {
            "text/plain": [
              "(7070, 11)"
            ]
          },
          "metadata": {
            "tags": []
          },
          "execution_count": 41
        }
      ]
    },
    {
      "cell_type": "code",
      "metadata": {
        "id": "IqVKFZiT-DhA"
      },
      "source": [
        "column_names = file1.columns"
      ],
      "execution_count": 42,
      "outputs": []
    },
    {
      "cell_type": "code",
      "metadata": {
        "colab": {
          "base_uri": "https://localhost:8080/",
          "height": 306
        },
        "id": "FkT3ma-I-KGw",
        "outputId": "73ab0892-12fc-4e4c-c927-612c4199fde1"
      },
      "source": [
        "file1.head()"
      ],
      "execution_count": 43,
      "outputs": [
        {
          "output_type": "execute_result",
          "data": {
            "text/html": [
              "<div>\n",
              "<style scoped>\n",
              "    .dataframe tbody tr th:only-of-type {\n",
              "        vertical-align: middle;\n",
              "    }\n",
              "\n",
              "    .dataframe tbody tr th {\n",
              "        vertical-align: top;\n",
              "    }\n",
              "\n",
              "    .dataframe thead th {\n",
              "        text-align: right;\n",
              "    }\n",
              "</style>\n",
              "<table border=\"1\" class=\"dataframe\">\n",
              "  <thead>\n",
              "    <tr style=\"text-align: right;\">\n",
              "      <th></th>\n",
              "      <th>Customer</th>\n",
              "      <th>ST</th>\n",
              "      <th>GENDER</th>\n",
              "      <th>Education</th>\n",
              "      <th>Customer Lifetime Value</th>\n",
              "      <th>Income</th>\n",
              "      <th>Monthly Premium Auto</th>\n",
              "      <th>Number of Open Complaints</th>\n",
              "      <th>Policy Type</th>\n",
              "      <th>Vehicle Class</th>\n",
              "      <th>Total Claim Amount</th>\n",
              "    </tr>\n",
              "  </thead>\n",
              "  <tbody>\n",
              "    <tr>\n",
              "      <th>0</th>\n",
              "      <td>RB50392</td>\n",
              "      <td>Washington</td>\n",
              "      <td>NaN</td>\n",
              "      <td>Master</td>\n",
              "      <td>NaN</td>\n",
              "      <td>0.0</td>\n",
              "      <td>1000.0</td>\n",
              "      <td>1/0/00</td>\n",
              "      <td>Personal Auto</td>\n",
              "      <td>Four-Door Car</td>\n",
              "      <td>2.704934</td>\n",
              "    </tr>\n",
              "    <tr>\n",
              "      <th>1</th>\n",
              "      <td>QZ44356</td>\n",
              "      <td>Arizona</td>\n",
              "      <td>F</td>\n",
              "      <td>Bachelor</td>\n",
              "      <td>697953.59%</td>\n",
              "      <td>0.0</td>\n",
              "      <td>94.0</td>\n",
              "      <td>1/0/00</td>\n",
              "      <td>Personal Auto</td>\n",
              "      <td>Four-Door Car</td>\n",
              "      <td>1131.464935</td>\n",
              "    </tr>\n",
              "    <tr>\n",
              "      <th>2</th>\n",
              "      <td>AI49188</td>\n",
              "      <td>Nevada</td>\n",
              "      <td>F</td>\n",
              "      <td>Bachelor</td>\n",
              "      <td>1288743.17%</td>\n",
              "      <td>48767.0</td>\n",
              "      <td>108.0</td>\n",
              "      <td>1/0/00</td>\n",
              "      <td>Personal Auto</td>\n",
              "      <td>Two-Door Car</td>\n",
              "      <td>566.472247</td>\n",
              "    </tr>\n",
              "    <tr>\n",
              "      <th>3</th>\n",
              "      <td>WW63253</td>\n",
              "      <td>California</td>\n",
              "      <td>M</td>\n",
              "      <td>Bachelor</td>\n",
              "      <td>764586.18%</td>\n",
              "      <td>0.0</td>\n",
              "      <td>106.0</td>\n",
              "      <td>1/0/00</td>\n",
              "      <td>Corporate Auto</td>\n",
              "      <td>SUV</td>\n",
              "      <td>529.881344</td>\n",
              "    </tr>\n",
              "    <tr>\n",
              "      <th>4</th>\n",
              "      <td>GA49547</td>\n",
              "      <td>Washington</td>\n",
              "      <td>M</td>\n",
              "      <td>High School or Below</td>\n",
              "      <td>536307.65%</td>\n",
              "      <td>36357.0</td>\n",
              "      <td>68.0</td>\n",
              "      <td>1/0/00</td>\n",
              "      <td>Personal Auto</td>\n",
              "      <td>Four-Door Car</td>\n",
              "      <td>17.269323</td>\n",
              "    </tr>\n",
              "  </tbody>\n",
              "</table>\n",
              "</div>"
            ],
            "text/plain": [
              "  Customer          ST  ...  Vehicle Class Total Claim Amount\n",
              "0  RB50392  Washington  ...  Four-Door Car           2.704934\n",
              "1  QZ44356     Arizona  ...  Four-Door Car        1131.464935\n",
              "2  AI49188      Nevada  ...   Two-Door Car         566.472247\n",
              "3  WW63253  California  ...            SUV         529.881344\n",
              "4  GA49547  Washington  ...  Four-Door Car          17.269323\n",
              "\n",
              "[5 rows x 11 columns]"
            ]
          },
          "metadata": {
            "tags": []
          },
          "execution_count": 43
        }
      ]
    },
    {
      "cell_type": "code",
      "metadata": {
        "colab": {
          "base_uri": "https://localhost:8080/",
          "height": 289
        },
        "id": "3oMSGa_3___i",
        "outputId": "6ed03154-e26c-48fd-d822-800a3031d615"
      },
      "source": [
        "file2.head()"
      ],
      "execution_count": 44,
      "outputs": [
        {
          "output_type": "execute_result",
          "data": {
            "text/html": [
              "<div>\n",
              "<style scoped>\n",
              "    .dataframe tbody tr th:only-of-type {\n",
              "        vertical-align: middle;\n",
              "    }\n",
              "\n",
              "    .dataframe tbody tr th {\n",
              "        vertical-align: top;\n",
              "    }\n",
              "\n",
              "    .dataframe thead th {\n",
              "        text-align: right;\n",
              "    }\n",
              "</style>\n",
              "<table border=\"1\" class=\"dataframe\">\n",
              "  <thead>\n",
              "    <tr style=\"text-align: right;\">\n",
              "      <th></th>\n",
              "      <th>Customer</th>\n",
              "      <th>ST</th>\n",
              "      <th>GENDER</th>\n",
              "      <th>Education</th>\n",
              "      <th>Customer Lifetime Value</th>\n",
              "      <th>Income</th>\n",
              "      <th>Monthly Premium Auto</th>\n",
              "      <th>Number of Open Complaints</th>\n",
              "      <th>Total Claim Amount</th>\n",
              "      <th>Policy Type</th>\n",
              "      <th>Vehicle Class</th>\n",
              "    </tr>\n",
              "  </thead>\n",
              "  <tbody>\n",
              "    <tr>\n",
              "      <th>0</th>\n",
              "      <td>GS98873</td>\n",
              "      <td>Arizona</td>\n",
              "      <td>F</td>\n",
              "      <td>Bachelor</td>\n",
              "      <td>323912.47%</td>\n",
              "      <td>16061</td>\n",
              "      <td>88</td>\n",
              "      <td>1/0/00</td>\n",
              "      <td>633.6</td>\n",
              "      <td>Personal Auto</td>\n",
              "      <td>Four-Door Car</td>\n",
              "    </tr>\n",
              "    <tr>\n",
              "      <th>1</th>\n",
              "      <td>CW49887</td>\n",
              "      <td>California</td>\n",
              "      <td>F</td>\n",
              "      <td>Master</td>\n",
              "      <td>462680.11%</td>\n",
              "      <td>79487</td>\n",
              "      <td>114</td>\n",
              "      <td>1/0/00</td>\n",
              "      <td>547.2</td>\n",
              "      <td>Special Auto</td>\n",
              "      <td>SUV</td>\n",
              "    </tr>\n",
              "    <tr>\n",
              "      <th>2</th>\n",
              "      <td>MY31220</td>\n",
              "      <td>California</td>\n",
              "      <td>F</td>\n",
              "      <td>College</td>\n",
              "      <td>899704.02%</td>\n",
              "      <td>54230</td>\n",
              "      <td>112</td>\n",
              "      <td>1/0/00</td>\n",
              "      <td>537.6</td>\n",
              "      <td>Personal Auto</td>\n",
              "      <td>Two-Door Car</td>\n",
              "    </tr>\n",
              "    <tr>\n",
              "      <th>3</th>\n",
              "      <td>UH35128</td>\n",
              "      <td>Oregon</td>\n",
              "      <td>F</td>\n",
              "      <td>College</td>\n",
              "      <td>2580706.30%</td>\n",
              "      <td>71210</td>\n",
              "      <td>214</td>\n",
              "      <td>1/1/00</td>\n",
              "      <td>1027.2</td>\n",
              "      <td>Personal Auto</td>\n",
              "      <td>Luxury Car</td>\n",
              "    </tr>\n",
              "    <tr>\n",
              "      <th>4</th>\n",
              "      <td>WH52799</td>\n",
              "      <td>Arizona</td>\n",
              "      <td>F</td>\n",
              "      <td>College</td>\n",
              "      <td>380812.21%</td>\n",
              "      <td>94903</td>\n",
              "      <td>94</td>\n",
              "      <td>1/0/00</td>\n",
              "      <td>451.2</td>\n",
              "      <td>Corporate Auto</td>\n",
              "      <td>Two-Door Car</td>\n",
              "    </tr>\n",
              "  </tbody>\n",
              "</table>\n",
              "</div>"
            ],
            "text/plain": [
              "  Customer          ST  ...     Policy Type  Vehicle Class\n",
              "0  GS98873     Arizona  ...   Personal Auto  Four-Door Car\n",
              "1  CW49887  California  ...    Special Auto            SUV\n",
              "2  MY31220  California  ...   Personal Auto   Two-Door Car\n",
              "3  UH35128      Oregon  ...   Personal Auto     Luxury Car\n",
              "4  WH52799     Arizona  ...  Corporate Auto   Two-Door Car\n",
              "\n",
              "[5 rows x 11 columns]"
            ]
          },
          "metadata": {
            "tags": []
          },
          "execution_count": 44
        }
      ]
    },
    {
      "cell_type": "code",
      "metadata": {
        "id": "qeDrdLfyAOH7"
      },
      "source": [
        "file2 = file2.rename(columns={'GENDER':'Gender', 'ST':'State'})\n",
        "file1 = file1.rename(columns={'GENDER':'Gender', 'ST':'State'})"
      ],
      "execution_count": 45,
      "outputs": []
    },
    {
      "cell_type": "code",
      "metadata": {
        "colab": {
          "base_uri": "https://localhost:8080/",
          "height": 306
        },
        "id": "ophsj_1aADJR",
        "outputId": "95ff65f0-47c3-4fe9-fcdb-93eacb6a4554"
      },
      "source": [
        "file3.head()"
      ],
      "execution_count": 46,
      "outputs": [
        {
          "output_type": "execute_result",
          "data": {
            "text/html": [
              "<div>\n",
              "<style scoped>\n",
              "    .dataframe tbody tr th:only-of-type {\n",
              "        vertical-align: middle;\n",
              "    }\n",
              "\n",
              "    .dataframe tbody tr th {\n",
              "        vertical-align: top;\n",
              "    }\n",
              "\n",
              "    .dataframe thead th {\n",
              "        text-align: right;\n",
              "    }\n",
              "</style>\n",
              "<table border=\"1\" class=\"dataframe\">\n",
              "  <thead>\n",
              "    <tr style=\"text-align: right;\">\n",
              "      <th></th>\n",
              "      <th>Customer</th>\n",
              "      <th>State</th>\n",
              "      <th>Customer Lifetime Value</th>\n",
              "      <th>Education</th>\n",
              "      <th>Gender</th>\n",
              "      <th>Income</th>\n",
              "      <th>Monthly Premium Auto</th>\n",
              "      <th>Number of Open Complaints</th>\n",
              "      <th>Policy Type</th>\n",
              "      <th>Total Claim Amount</th>\n",
              "      <th>Vehicle Class</th>\n",
              "    </tr>\n",
              "  </thead>\n",
              "  <tbody>\n",
              "    <tr>\n",
              "      <th>0</th>\n",
              "      <td>SA25987</td>\n",
              "      <td>Washington</td>\n",
              "      <td>3479.137523</td>\n",
              "      <td>High School or Below</td>\n",
              "      <td>M</td>\n",
              "      <td>0</td>\n",
              "      <td>104</td>\n",
              "      <td>0</td>\n",
              "      <td>Personal Auto</td>\n",
              "      <td>499.200000</td>\n",
              "      <td>Two-Door Car</td>\n",
              "    </tr>\n",
              "    <tr>\n",
              "      <th>1</th>\n",
              "      <td>TB86706</td>\n",
              "      <td>Arizona</td>\n",
              "      <td>2502.637401</td>\n",
              "      <td>Master</td>\n",
              "      <td>M</td>\n",
              "      <td>0</td>\n",
              "      <td>66</td>\n",
              "      <td>0</td>\n",
              "      <td>Personal Auto</td>\n",
              "      <td>3.468912</td>\n",
              "      <td>Two-Door Car</td>\n",
              "    </tr>\n",
              "    <tr>\n",
              "      <th>2</th>\n",
              "      <td>ZL73902</td>\n",
              "      <td>Nevada</td>\n",
              "      <td>3265.156348</td>\n",
              "      <td>Bachelor</td>\n",
              "      <td>F</td>\n",
              "      <td>25820</td>\n",
              "      <td>82</td>\n",
              "      <td>0</td>\n",
              "      <td>Personal Auto</td>\n",
              "      <td>393.600000</td>\n",
              "      <td>Four-Door Car</td>\n",
              "    </tr>\n",
              "    <tr>\n",
              "      <th>3</th>\n",
              "      <td>KX23516</td>\n",
              "      <td>California</td>\n",
              "      <td>4455.843406</td>\n",
              "      <td>High School or Below</td>\n",
              "      <td>F</td>\n",
              "      <td>0</td>\n",
              "      <td>121</td>\n",
              "      <td>0</td>\n",
              "      <td>Personal Auto</td>\n",
              "      <td>699.615192</td>\n",
              "      <td>SUV</td>\n",
              "    </tr>\n",
              "    <tr>\n",
              "      <th>4</th>\n",
              "      <td>FN77294</td>\n",
              "      <td>California</td>\n",
              "      <td>7704.958480</td>\n",
              "      <td>High School or Below</td>\n",
              "      <td>M</td>\n",
              "      <td>30366</td>\n",
              "      <td>101</td>\n",
              "      <td>2</td>\n",
              "      <td>Personal Auto</td>\n",
              "      <td>484.800000</td>\n",
              "      <td>SUV</td>\n",
              "    </tr>\n",
              "  </tbody>\n",
              "</table>\n",
              "</div>"
            ],
            "text/plain": [
              "  Customer       State  ...  Total Claim Amount  Vehicle Class\n",
              "0  SA25987  Washington  ...          499.200000   Two-Door Car\n",
              "1  TB86706     Arizona  ...            3.468912   Two-Door Car\n",
              "2  ZL73902      Nevada  ...          393.600000  Four-Door Car\n",
              "3  KX23516  California  ...          699.615192            SUV\n",
              "4  FN77294  California  ...          484.800000            SUV\n",
              "\n",
              "[5 rows x 11 columns]"
            ]
          },
          "metadata": {
            "tags": []
          },
          "execution_count": 46
        }
      ]
    },
    {
      "cell_type": "code",
      "metadata": {
        "colab": {
          "base_uri": "https://localhost:8080/",
          "height": 306
        },
        "id": "CoxIezkcAGpm",
        "outputId": "96a3445f-7c75-4473-c2f3-c6d378c4169f"
      },
      "source": [
        "file1.head()"
      ],
      "execution_count": 47,
      "outputs": [
        {
          "output_type": "execute_result",
          "data": {
            "text/html": [
              "<div>\n",
              "<style scoped>\n",
              "    .dataframe tbody tr th:only-of-type {\n",
              "        vertical-align: middle;\n",
              "    }\n",
              "\n",
              "    .dataframe tbody tr th {\n",
              "        vertical-align: top;\n",
              "    }\n",
              "\n",
              "    .dataframe thead th {\n",
              "        text-align: right;\n",
              "    }\n",
              "</style>\n",
              "<table border=\"1\" class=\"dataframe\">\n",
              "  <thead>\n",
              "    <tr style=\"text-align: right;\">\n",
              "      <th></th>\n",
              "      <th>Customer</th>\n",
              "      <th>State</th>\n",
              "      <th>Gender</th>\n",
              "      <th>Education</th>\n",
              "      <th>Customer Lifetime Value</th>\n",
              "      <th>Income</th>\n",
              "      <th>Monthly Premium Auto</th>\n",
              "      <th>Number of Open Complaints</th>\n",
              "      <th>Policy Type</th>\n",
              "      <th>Vehicle Class</th>\n",
              "      <th>Total Claim Amount</th>\n",
              "    </tr>\n",
              "  </thead>\n",
              "  <tbody>\n",
              "    <tr>\n",
              "      <th>0</th>\n",
              "      <td>RB50392</td>\n",
              "      <td>Washington</td>\n",
              "      <td>NaN</td>\n",
              "      <td>Master</td>\n",
              "      <td>NaN</td>\n",
              "      <td>0.0</td>\n",
              "      <td>1000.0</td>\n",
              "      <td>1/0/00</td>\n",
              "      <td>Personal Auto</td>\n",
              "      <td>Four-Door Car</td>\n",
              "      <td>2.704934</td>\n",
              "    </tr>\n",
              "    <tr>\n",
              "      <th>1</th>\n",
              "      <td>QZ44356</td>\n",
              "      <td>Arizona</td>\n",
              "      <td>F</td>\n",
              "      <td>Bachelor</td>\n",
              "      <td>697953.59%</td>\n",
              "      <td>0.0</td>\n",
              "      <td>94.0</td>\n",
              "      <td>1/0/00</td>\n",
              "      <td>Personal Auto</td>\n",
              "      <td>Four-Door Car</td>\n",
              "      <td>1131.464935</td>\n",
              "    </tr>\n",
              "    <tr>\n",
              "      <th>2</th>\n",
              "      <td>AI49188</td>\n",
              "      <td>Nevada</td>\n",
              "      <td>F</td>\n",
              "      <td>Bachelor</td>\n",
              "      <td>1288743.17%</td>\n",
              "      <td>48767.0</td>\n",
              "      <td>108.0</td>\n",
              "      <td>1/0/00</td>\n",
              "      <td>Personal Auto</td>\n",
              "      <td>Two-Door Car</td>\n",
              "      <td>566.472247</td>\n",
              "    </tr>\n",
              "    <tr>\n",
              "      <th>3</th>\n",
              "      <td>WW63253</td>\n",
              "      <td>California</td>\n",
              "      <td>M</td>\n",
              "      <td>Bachelor</td>\n",
              "      <td>764586.18%</td>\n",
              "      <td>0.0</td>\n",
              "      <td>106.0</td>\n",
              "      <td>1/0/00</td>\n",
              "      <td>Corporate Auto</td>\n",
              "      <td>SUV</td>\n",
              "      <td>529.881344</td>\n",
              "    </tr>\n",
              "    <tr>\n",
              "      <th>4</th>\n",
              "      <td>GA49547</td>\n",
              "      <td>Washington</td>\n",
              "      <td>M</td>\n",
              "      <td>High School or Below</td>\n",
              "      <td>536307.65%</td>\n",
              "      <td>36357.0</td>\n",
              "      <td>68.0</td>\n",
              "      <td>1/0/00</td>\n",
              "      <td>Personal Auto</td>\n",
              "      <td>Four-Door Car</td>\n",
              "      <td>17.269323</td>\n",
              "    </tr>\n",
              "  </tbody>\n",
              "</table>\n",
              "</div>"
            ],
            "text/plain": [
              "  Customer       State  ...  Vehicle Class Total Claim Amount\n",
              "0  RB50392  Washington  ...  Four-Door Car           2.704934\n",
              "1  QZ44356     Arizona  ...  Four-Door Car        1131.464935\n",
              "2  AI49188      Nevada  ...   Two-Door Car         566.472247\n",
              "3  WW63253  California  ...            SUV         529.881344\n",
              "4  GA49547  Washington  ...  Four-Door Car          17.269323\n",
              "\n",
              "[5 rows x 11 columns]"
            ]
          },
          "metadata": {
            "tags": []
          },
          "execution_count": 47
        }
      ]
    },
    {
      "cell_type": "code",
      "metadata": {
        "id": "Hl2WMqMz-S0Y"
      },
      "source": [
        "data = pd.concat([file1,file2,file3],axis=0)"
      ],
      "execution_count": 48,
      "outputs": []
    },
    {
      "cell_type": "markdown",
      "metadata": {
        "id": "GF6SRqbQAXaN"
      },
      "source": [
        ""
      ]
    },
    {
      "cell_type": "code",
      "metadata": {
        "colab": {
          "base_uri": "https://localhost:8080/"
        },
        "id": "L_CAzNSE-oIQ",
        "outputId": "f8ae25f2-def6-4730-9777-abd83fb9a2ca"
      },
      "source": [
        "data.shape"
      ],
      "execution_count": 49,
      "outputs": [
        {
          "output_type": "execute_result",
          "data": {
            "text/plain": [
              "(12074, 11)"
            ]
          },
          "metadata": {
            "tags": []
          },
          "execution_count": 49
        }
      ]
    },
    {
      "cell_type": "code",
      "metadata": {
        "colab": {
          "base_uri": "https://localhost:8080/",
          "height": 306
        },
        "id": "IpLYDUvE-qBa",
        "outputId": "396eb104-0618-4048-d01e-8b93e505d641"
      },
      "source": [
        "data.head()"
      ],
      "execution_count": 50,
      "outputs": [
        {
          "output_type": "execute_result",
          "data": {
            "text/html": [
              "<div>\n",
              "<style scoped>\n",
              "    .dataframe tbody tr th:only-of-type {\n",
              "        vertical-align: middle;\n",
              "    }\n",
              "\n",
              "    .dataframe tbody tr th {\n",
              "        vertical-align: top;\n",
              "    }\n",
              "\n",
              "    .dataframe thead th {\n",
              "        text-align: right;\n",
              "    }\n",
              "</style>\n",
              "<table border=\"1\" class=\"dataframe\">\n",
              "  <thead>\n",
              "    <tr style=\"text-align: right;\">\n",
              "      <th></th>\n",
              "      <th>Customer</th>\n",
              "      <th>State</th>\n",
              "      <th>Gender</th>\n",
              "      <th>Education</th>\n",
              "      <th>Customer Lifetime Value</th>\n",
              "      <th>Income</th>\n",
              "      <th>Monthly Premium Auto</th>\n",
              "      <th>Number of Open Complaints</th>\n",
              "      <th>Policy Type</th>\n",
              "      <th>Vehicle Class</th>\n",
              "      <th>Total Claim Amount</th>\n",
              "    </tr>\n",
              "  </thead>\n",
              "  <tbody>\n",
              "    <tr>\n",
              "      <th>0</th>\n",
              "      <td>RB50392</td>\n",
              "      <td>Washington</td>\n",
              "      <td>NaN</td>\n",
              "      <td>Master</td>\n",
              "      <td>NaN</td>\n",
              "      <td>0.0</td>\n",
              "      <td>1000.0</td>\n",
              "      <td>1/0/00</td>\n",
              "      <td>Personal Auto</td>\n",
              "      <td>Four-Door Car</td>\n",
              "      <td>2.704934</td>\n",
              "    </tr>\n",
              "    <tr>\n",
              "      <th>1</th>\n",
              "      <td>QZ44356</td>\n",
              "      <td>Arizona</td>\n",
              "      <td>F</td>\n",
              "      <td>Bachelor</td>\n",
              "      <td>697953.59%</td>\n",
              "      <td>0.0</td>\n",
              "      <td>94.0</td>\n",
              "      <td>1/0/00</td>\n",
              "      <td>Personal Auto</td>\n",
              "      <td>Four-Door Car</td>\n",
              "      <td>1131.464935</td>\n",
              "    </tr>\n",
              "    <tr>\n",
              "      <th>2</th>\n",
              "      <td>AI49188</td>\n",
              "      <td>Nevada</td>\n",
              "      <td>F</td>\n",
              "      <td>Bachelor</td>\n",
              "      <td>1288743.17%</td>\n",
              "      <td>48767.0</td>\n",
              "      <td>108.0</td>\n",
              "      <td>1/0/00</td>\n",
              "      <td>Personal Auto</td>\n",
              "      <td>Two-Door Car</td>\n",
              "      <td>566.472247</td>\n",
              "    </tr>\n",
              "    <tr>\n",
              "      <th>3</th>\n",
              "      <td>WW63253</td>\n",
              "      <td>California</td>\n",
              "      <td>M</td>\n",
              "      <td>Bachelor</td>\n",
              "      <td>764586.18%</td>\n",
              "      <td>0.0</td>\n",
              "      <td>106.0</td>\n",
              "      <td>1/0/00</td>\n",
              "      <td>Corporate Auto</td>\n",
              "      <td>SUV</td>\n",
              "      <td>529.881344</td>\n",
              "    </tr>\n",
              "    <tr>\n",
              "      <th>4</th>\n",
              "      <td>GA49547</td>\n",
              "      <td>Washington</td>\n",
              "      <td>M</td>\n",
              "      <td>High School or Below</td>\n",
              "      <td>536307.65%</td>\n",
              "      <td>36357.0</td>\n",
              "      <td>68.0</td>\n",
              "      <td>1/0/00</td>\n",
              "      <td>Personal Auto</td>\n",
              "      <td>Four-Door Car</td>\n",
              "      <td>17.269323</td>\n",
              "    </tr>\n",
              "  </tbody>\n",
              "</table>\n",
              "</div>"
            ],
            "text/plain": [
              "  Customer       State  ...  Vehicle Class Total Claim Amount\n",
              "0  RB50392  Washington  ...  Four-Door Car           2.704934\n",
              "1  QZ44356     Arizona  ...  Four-Door Car        1131.464935\n",
              "2  AI49188      Nevada  ...   Two-Door Car         566.472247\n",
              "3  WW63253  California  ...            SUV         529.881344\n",
              "4  GA49547  Washington  ...  Four-Door Car          17.269323\n",
              "\n",
              "[5 rows x 11 columns]"
            ]
          },
          "metadata": {
            "tags": []
          },
          "execution_count": 50
        }
      ]
    },
    {
      "cell_type": "code",
      "metadata": {
        "colab": {
          "base_uri": "https://localhost:8080/",
          "height": 606
        },
        "id": "cYwUAKun_4EN",
        "outputId": "14b5c721-d50c-4450-f326-ea5fc6b5374f"
      },
      "source": [
        "data[['Customer','State','Gender','Education','Policy Type','Vehicle Class','Customer Lifetime Value','Income','Monthly Premium Auto','Number of Open Complaints','Total Claim Amount']]"
      ],
      "execution_count": 51,
      "outputs": [
        {
          "output_type": "execute_result",
          "data": {
            "text/html": [
              "<div>\n",
              "<style scoped>\n",
              "    .dataframe tbody tr th:only-of-type {\n",
              "        vertical-align: middle;\n",
              "    }\n",
              "\n",
              "    .dataframe tbody tr th {\n",
              "        vertical-align: top;\n",
              "    }\n",
              "\n",
              "    .dataframe thead th {\n",
              "        text-align: right;\n",
              "    }\n",
              "</style>\n",
              "<table border=\"1\" class=\"dataframe\">\n",
              "  <thead>\n",
              "    <tr style=\"text-align: right;\">\n",
              "      <th></th>\n",
              "      <th>Customer</th>\n",
              "      <th>State</th>\n",
              "      <th>Gender</th>\n",
              "      <th>Education</th>\n",
              "      <th>Policy Type</th>\n",
              "      <th>Vehicle Class</th>\n",
              "      <th>Customer Lifetime Value</th>\n",
              "      <th>Income</th>\n",
              "      <th>Monthly Premium Auto</th>\n",
              "      <th>Number of Open Complaints</th>\n",
              "      <th>Total Claim Amount</th>\n",
              "    </tr>\n",
              "  </thead>\n",
              "  <tbody>\n",
              "    <tr>\n",
              "      <th>0</th>\n",
              "      <td>RB50392</td>\n",
              "      <td>Washington</td>\n",
              "      <td>NaN</td>\n",
              "      <td>Master</td>\n",
              "      <td>Personal Auto</td>\n",
              "      <td>Four-Door Car</td>\n",
              "      <td>NaN</td>\n",
              "      <td>0.0</td>\n",
              "      <td>1000.0</td>\n",
              "      <td>1/0/00</td>\n",
              "      <td>2.704934</td>\n",
              "    </tr>\n",
              "    <tr>\n",
              "      <th>1</th>\n",
              "      <td>QZ44356</td>\n",
              "      <td>Arizona</td>\n",
              "      <td>F</td>\n",
              "      <td>Bachelor</td>\n",
              "      <td>Personal Auto</td>\n",
              "      <td>Four-Door Car</td>\n",
              "      <td>697953.59%</td>\n",
              "      <td>0.0</td>\n",
              "      <td>94.0</td>\n",
              "      <td>1/0/00</td>\n",
              "      <td>1131.464935</td>\n",
              "    </tr>\n",
              "    <tr>\n",
              "      <th>2</th>\n",
              "      <td>AI49188</td>\n",
              "      <td>Nevada</td>\n",
              "      <td>F</td>\n",
              "      <td>Bachelor</td>\n",
              "      <td>Personal Auto</td>\n",
              "      <td>Two-Door Car</td>\n",
              "      <td>1288743.17%</td>\n",
              "      <td>48767.0</td>\n",
              "      <td>108.0</td>\n",
              "      <td>1/0/00</td>\n",
              "      <td>566.472247</td>\n",
              "    </tr>\n",
              "    <tr>\n",
              "      <th>3</th>\n",
              "      <td>WW63253</td>\n",
              "      <td>California</td>\n",
              "      <td>M</td>\n",
              "      <td>Bachelor</td>\n",
              "      <td>Corporate Auto</td>\n",
              "      <td>SUV</td>\n",
              "      <td>764586.18%</td>\n",
              "      <td>0.0</td>\n",
              "      <td>106.0</td>\n",
              "      <td>1/0/00</td>\n",
              "      <td>529.881344</td>\n",
              "    </tr>\n",
              "    <tr>\n",
              "      <th>4</th>\n",
              "      <td>GA49547</td>\n",
              "      <td>Washington</td>\n",
              "      <td>M</td>\n",
              "      <td>High School or Below</td>\n",
              "      <td>Personal Auto</td>\n",
              "      <td>Four-Door Car</td>\n",
              "      <td>536307.65%</td>\n",
              "      <td>36357.0</td>\n",
              "      <td>68.0</td>\n",
              "      <td>1/0/00</td>\n",
              "      <td>17.269323</td>\n",
              "    </tr>\n",
              "    <tr>\n",
              "      <th>...</th>\n",
              "      <td>...</td>\n",
              "      <td>...</td>\n",
              "      <td>...</td>\n",
              "      <td>...</td>\n",
              "      <td>...</td>\n",
              "      <td>...</td>\n",
              "      <td>...</td>\n",
              "      <td>...</td>\n",
              "      <td>...</td>\n",
              "      <td>...</td>\n",
              "      <td>...</td>\n",
              "    </tr>\n",
              "    <tr>\n",
              "      <th>7065</th>\n",
              "      <td>LA72316</td>\n",
              "      <td>California</td>\n",
              "      <td>M</td>\n",
              "      <td>Bachelor</td>\n",
              "      <td>Personal Auto</td>\n",
              "      <td>Four-Door Car</td>\n",
              "      <td>23406</td>\n",
              "      <td>71941.0</td>\n",
              "      <td>73.0</td>\n",
              "      <td>0</td>\n",
              "      <td>198.234764</td>\n",
              "    </tr>\n",
              "    <tr>\n",
              "      <th>7066</th>\n",
              "      <td>PK87824</td>\n",
              "      <td>California</td>\n",
              "      <td>F</td>\n",
              "      <td>College</td>\n",
              "      <td>Corporate Auto</td>\n",
              "      <td>Four-Door Car</td>\n",
              "      <td>3096.51</td>\n",
              "      <td>21604.0</td>\n",
              "      <td>79.0</td>\n",
              "      <td>0</td>\n",
              "      <td>379.200000</td>\n",
              "    </tr>\n",
              "    <tr>\n",
              "      <th>7067</th>\n",
              "      <td>TD14365</td>\n",
              "      <td>California</td>\n",
              "      <td>M</td>\n",
              "      <td>Bachelor</td>\n",
              "      <td>Corporate Auto</td>\n",
              "      <td>Four-Door Car</td>\n",
              "      <td>8163.89</td>\n",
              "      <td>0.0</td>\n",
              "      <td>85.0</td>\n",
              "      <td>3</td>\n",
              "      <td>790.784983</td>\n",
              "    </tr>\n",
              "    <tr>\n",
              "      <th>7068</th>\n",
              "      <td>UP19263</td>\n",
              "      <td>California</td>\n",
              "      <td>M</td>\n",
              "      <td>College</td>\n",
              "      <td>Personal Auto</td>\n",
              "      <td>Four-Door Car</td>\n",
              "      <td>7524.44</td>\n",
              "      <td>21941.0</td>\n",
              "      <td>96.0</td>\n",
              "      <td>0</td>\n",
              "      <td>691.200000</td>\n",
              "    </tr>\n",
              "    <tr>\n",
              "      <th>7069</th>\n",
              "      <td>Y167826</td>\n",
              "      <td>California</td>\n",
              "      <td>M</td>\n",
              "      <td>College</td>\n",
              "      <td>Corporate Auto</td>\n",
              "      <td>Two-Door Car</td>\n",
              "      <td>2611.84</td>\n",
              "      <td>0.0</td>\n",
              "      <td>77.0</td>\n",
              "      <td>0</td>\n",
              "      <td>369.600000</td>\n",
              "    </tr>\n",
              "  </tbody>\n",
              "</table>\n",
              "<p>12074 rows × 11 columns</p>\n",
              "</div>"
            ],
            "text/plain": [
              "     Customer       State  ... Number of Open Complaints Total Claim Amount\n",
              "0     RB50392  Washington  ...                    1/0/00           2.704934\n",
              "1     QZ44356     Arizona  ...                    1/0/00        1131.464935\n",
              "2     AI49188      Nevada  ...                    1/0/00         566.472247\n",
              "3     WW63253  California  ...                    1/0/00         529.881344\n",
              "4     GA49547  Washington  ...                    1/0/00          17.269323\n",
              "...       ...         ...  ...                       ...                ...\n",
              "7065  LA72316  California  ...                         0         198.234764\n",
              "7066  PK87824  California  ...                         0         379.200000\n",
              "7067  TD14365  California  ...                         3         790.784983\n",
              "7068  UP19263  California  ...                         0         691.200000\n",
              "7069  Y167826  California  ...                         0         369.600000\n",
              "\n",
              "[12074 rows x 11 columns]"
            ]
          },
          "metadata": {
            "tags": []
          },
          "execution_count": 51
        }
      ]
    },
    {
      "cell_type": "code",
      "metadata": {
        "id": "j0XL853ABNAb"
      },
      "source": [
        "columns_name = data.columns"
      ],
      "execution_count": 52,
      "outputs": []
    },
    {
      "cell_type": "code",
      "metadata": {
        "colab": {
          "base_uri": "https://localhost:8080/"
        },
        "id": "mh2EkbOuBjKi",
        "outputId": "bcabaffe-8b56-4f1e-ed73-6154e3d83c5e"
      },
      "source": [
        "data.dtypes"
      ],
      "execution_count": 53,
      "outputs": [
        {
          "output_type": "execute_result",
          "data": {
            "text/plain": [
              "Customer                      object\n",
              "State                         object\n",
              "Gender                        object\n",
              "Education                     object\n",
              "Customer Lifetime Value       object\n",
              "Income                       float64\n",
              "Monthly Premium Auto         float64\n",
              "Number of Open Complaints     object\n",
              "Policy Type                   object\n",
              "Vehicle Class                 object\n",
              "Total Claim Amount           float64\n",
              "dtype: object"
            ]
          },
          "metadata": {
            "tags": []
          },
          "execution_count": 53
        }
      ]
    },
    {
      "cell_type": "code",
      "metadata": {
        "colab": {
          "base_uri": "https://localhost:8080/",
          "height": 419
        },
        "id": "jgh-SO6kBrnF",
        "outputId": "67bce3a1-0c25-44a0-8eb6-db1285b386b0"
      },
      "source": [
        "data._get_numeric_data()"
      ],
      "execution_count": 54,
      "outputs": [
        {
          "output_type": "execute_result",
          "data": {
            "text/html": [
              "<div>\n",
              "<style scoped>\n",
              "    .dataframe tbody tr th:only-of-type {\n",
              "        vertical-align: middle;\n",
              "    }\n",
              "\n",
              "    .dataframe tbody tr th {\n",
              "        vertical-align: top;\n",
              "    }\n",
              "\n",
              "    .dataframe thead th {\n",
              "        text-align: right;\n",
              "    }\n",
              "</style>\n",
              "<table border=\"1\" class=\"dataframe\">\n",
              "  <thead>\n",
              "    <tr style=\"text-align: right;\">\n",
              "      <th></th>\n",
              "      <th>Income</th>\n",
              "      <th>Monthly Premium Auto</th>\n",
              "      <th>Total Claim Amount</th>\n",
              "    </tr>\n",
              "  </thead>\n",
              "  <tbody>\n",
              "    <tr>\n",
              "      <th>0</th>\n",
              "      <td>0.0</td>\n",
              "      <td>1000.0</td>\n",
              "      <td>2.704934</td>\n",
              "    </tr>\n",
              "    <tr>\n",
              "      <th>1</th>\n",
              "      <td>0.0</td>\n",
              "      <td>94.0</td>\n",
              "      <td>1131.464935</td>\n",
              "    </tr>\n",
              "    <tr>\n",
              "      <th>2</th>\n",
              "      <td>48767.0</td>\n",
              "      <td>108.0</td>\n",
              "      <td>566.472247</td>\n",
              "    </tr>\n",
              "    <tr>\n",
              "      <th>3</th>\n",
              "      <td>0.0</td>\n",
              "      <td>106.0</td>\n",
              "      <td>529.881344</td>\n",
              "    </tr>\n",
              "    <tr>\n",
              "      <th>4</th>\n",
              "      <td>36357.0</td>\n",
              "      <td>68.0</td>\n",
              "      <td>17.269323</td>\n",
              "    </tr>\n",
              "    <tr>\n",
              "      <th>...</th>\n",
              "      <td>...</td>\n",
              "      <td>...</td>\n",
              "      <td>...</td>\n",
              "    </tr>\n",
              "    <tr>\n",
              "      <th>7065</th>\n",
              "      <td>71941.0</td>\n",
              "      <td>73.0</td>\n",
              "      <td>198.234764</td>\n",
              "    </tr>\n",
              "    <tr>\n",
              "      <th>7066</th>\n",
              "      <td>21604.0</td>\n",
              "      <td>79.0</td>\n",
              "      <td>379.200000</td>\n",
              "    </tr>\n",
              "    <tr>\n",
              "      <th>7067</th>\n",
              "      <td>0.0</td>\n",
              "      <td>85.0</td>\n",
              "      <td>790.784983</td>\n",
              "    </tr>\n",
              "    <tr>\n",
              "      <th>7068</th>\n",
              "      <td>21941.0</td>\n",
              "      <td>96.0</td>\n",
              "      <td>691.200000</td>\n",
              "    </tr>\n",
              "    <tr>\n",
              "      <th>7069</th>\n",
              "      <td>0.0</td>\n",
              "      <td>77.0</td>\n",
              "      <td>369.600000</td>\n",
              "    </tr>\n",
              "  </tbody>\n",
              "</table>\n",
              "<p>12074 rows × 3 columns</p>\n",
              "</div>"
            ],
            "text/plain": [
              "       Income  Monthly Premium Auto  Total Claim Amount\n",
              "0         0.0                1000.0            2.704934\n",
              "1         0.0                  94.0         1131.464935\n",
              "2     48767.0                 108.0          566.472247\n",
              "3         0.0                 106.0          529.881344\n",
              "4     36357.0                  68.0           17.269323\n",
              "...       ...                   ...                 ...\n",
              "7065  71941.0                  73.0          198.234764\n",
              "7066  21604.0                  79.0          379.200000\n",
              "7067      0.0                  85.0          790.784983\n",
              "7068  21941.0                  96.0          691.200000\n",
              "7069      0.0                  77.0          369.600000\n",
              "\n",
              "[12074 rows x 3 columns]"
            ]
          },
          "metadata": {
            "tags": []
          },
          "execution_count": 54
        }
      ]
    },
    {
      "cell_type": "markdown",
      "metadata": {
        "id": "amosR0v6EFM4"
      },
      "source": [
        "Understand the meaning of all columns:\n",
        "Customer: customer id                     \n",
        "State: state where the customer is from                       \n",
        "Gender: gender of the customer                        \n",
        "Education: education level                     \n",
        "Customer Lifetime Value: net profit contributed by the customer during its time as a customer    \n",
        "Income: self explanatory \n",
        "\n",
        "Monthly Premium Auto:   self-explanatory    \n",
        "Number of Open Complaints     \n",
        "Policy Type: policy purchased self-explanatory                  \n",
        "Vehicle Class: self-explanatory              \n",
        "Total Claim Amount: times a customer has claimed sth"
      ]
    },
    {
      "cell_type": "code",
      "metadata": {
        "id": "w0-ujmdhFGbw"
      },
      "source": [
        "columns_drop = ['Education','Number of Open Complaints']\n",
        "data = data.drop(columns_drop, axis=1)"
      ],
      "execution_count": 55,
      "outputs": []
    },
    {
      "cell_type": "code",
      "metadata": {
        "colab": {
          "base_uri": "https://localhost:8080/",
          "height": 204
        },
        "id": "PR6_97AUGBSp",
        "outputId": "f6c1ec00-babb-476d-e4dd-5e582d7ef4c6"
      },
      "source": [
        "data.head()"
      ],
      "execution_count": 56,
      "outputs": [
        {
          "output_type": "execute_result",
          "data": {
            "text/html": [
              "<div>\n",
              "<style scoped>\n",
              "    .dataframe tbody tr th:only-of-type {\n",
              "        vertical-align: middle;\n",
              "    }\n",
              "\n",
              "    .dataframe tbody tr th {\n",
              "        vertical-align: top;\n",
              "    }\n",
              "\n",
              "    .dataframe thead th {\n",
              "        text-align: right;\n",
              "    }\n",
              "</style>\n",
              "<table border=\"1\" class=\"dataframe\">\n",
              "  <thead>\n",
              "    <tr style=\"text-align: right;\">\n",
              "      <th></th>\n",
              "      <th>Customer</th>\n",
              "      <th>State</th>\n",
              "      <th>Gender</th>\n",
              "      <th>Customer Lifetime Value</th>\n",
              "      <th>Income</th>\n",
              "      <th>Monthly Premium Auto</th>\n",
              "      <th>Policy Type</th>\n",
              "      <th>Vehicle Class</th>\n",
              "      <th>Total Claim Amount</th>\n",
              "    </tr>\n",
              "  </thead>\n",
              "  <tbody>\n",
              "    <tr>\n",
              "      <th>0</th>\n",
              "      <td>RB50392</td>\n",
              "      <td>Washington</td>\n",
              "      <td>NaN</td>\n",
              "      <td>NaN</td>\n",
              "      <td>0.0</td>\n",
              "      <td>1000.0</td>\n",
              "      <td>Personal Auto</td>\n",
              "      <td>Four-Door Car</td>\n",
              "      <td>2.704934</td>\n",
              "    </tr>\n",
              "    <tr>\n",
              "      <th>1</th>\n",
              "      <td>QZ44356</td>\n",
              "      <td>Arizona</td>\n",
              "      <td>F</td>\n",
              "      <td>697953.59%</td>\n",
              "      <td>0.0</td>\n",
              "      <td>94.0</td>\n",
              "      <td>Personal Auto</td>\n",
              "      <td>Four-Door Car</td>\n",
              "      <td>1131.464935</td>\n",
              "    </tr>\n",
              "    <tr>\n",
              "      <th>2</th>\n",
              "      <td>AI49188</td>\n",
              "      <td>Nevada</td>\n",
              "      <td>F</td>\n",
              "      <td>1288743.17%</td>\n",
              "      <td>48767.0</td>\n",
              "      <td>108.0</td>\n",
              "      <td>Personal Auto</td>\n",
              "      <td>Two-Door Car</td>\n",
              "      <td>566.472247</td>\n",
              "    </tr>\n",
              "    <tr>\n",
              "      <th>3</th>\n",
              "      <td>WW63253</td>\n",
              "      <td>California</td>\n",
              "      <td>M</td>\n",
              "      <td>764586.18%</td>\n",
              "      <td>0.0</td>\n",
              "      <td>106.0</td>\n",
              "      <td>Corporate Auto</td>\n",
              "      <td>SUV</td>\n",
              "      <td>529.881344</td>\n",
              "    </tr>\n",
              "    <tr>\n",
              "      <th>4</th>\n",
              "      <td>GA49547</td>\n",
              "      <td>Washington</td>\n",
              "      <td>M</td>\n",
              "      <td>536307.65%</td>\n",
              "      <td>36357.0</td>\n",
              "      <td>68.0</td>\n",
              "      <td>Personal Auto</td>\n",
              "      <td>Four-Door Car</td>\n",
              "      <td>17.269323</td>\n",
              "    </tr>\n",
              "  </tbody>\n",
              "</table>\n",
              "</div>"
            ],
            "text/plain": [
              "  Customer       State  ...  Vehicle Class Total Claim Amount\n",
              "0  RB50392  Washington  ...  Four-Door Car           2.704934\n",
              "1  QZ44356     Arizona  ...  Four-Door Car        1131.464935\n",
              "2  AI49188      Nevada  ...   Two-Door Car         566.472247\n",
              "3  WW63253  California  ...            SUV         529.881344\n",
              "4  GA49547  Washington  ...  Four-Door Car          17.269323\n",
              "\n",
              "[5 rows x 9 columns]"
            ]
          },
          "metadata": {
            "tags": []
          },
          "execution_count": 56
        }
      ]
    },
    {
      "cell_type": "code",
      "metadata": {
        "colab": {
          "base_uri": "https://localhost:8080/",
          "height": 419
        },
        "id": "O1flIkWQGC2b",
        "outputId": "99918960-2729-4b66-f0fa-196f7e5d3390"
      },
      "source": [
        "data"
      ],
      "execution_count": 57,
      "outputs": [
        {
          "output_type": "execute_result",
          "data": {
            "text/html": [
              "<div>\n",
              "<style scoped>\n",
              "    .dataframe tbody tr th:only-of-type {\n",
              "        vertical-align: middle;\n",
              "    }\n",
              "\n",
              "    .dataframe tbody tr th {\n",
              "        vertical-align: top;\n",
              "    }\n",
              "\n",
              "    .dataframe thead th {\n",
              "        text-align: right;\n",
              "    }\n",
              "</style>\n",
              "<table border=\"1\" class=\"dataframe\">\n",
              "  <thead>\n",
              "    <tr style=\"text-align: right;\">\n",
              "      <th></th>\n",
              "      <th>Customer</th>\n",
              "      <th>State</th>\n",
              "      <th>Gender</th>\n",
              "      <th>Customer Lifetime Value</th>\n",
              "      <th>Income</th>\n",
              "      <th>Monthly Premium Auto</th>\n",
              "      <th>Policy Type</th>\n",
              "      <th>Vehicle Class</th>\n",
              "      <th>Total Claim Amount</th>\n",
              "    </tr>\n",
              "  </thead>\n",
              "  <tbody>\n",
              "    <tr>\n",
              "      <th>0</th>\n",
              "      <td>RB50392</td>\n",
              "      <td>Washington</td>\n",
              "      <td>NaN</td>\n",
              "      <td>NaN</td>\n",
              "      <td>0.0</td>\n",
              "      <td>1000.0</td>\n",
              "      <td>Personal Auto</td>\n",
              "      <td>Four-Door Car</td>\n",
              "      <td>2.704934</td>\n",
              "    </tr>\n",
              "    <tr>\n",
              "      <th>1</th>\n",
              "      <td>QZ44356</td>\n",
              "      <td>Arizona</td>\n",
              "      <td>F</td>\n",
              "      <td>697953.59%</td>\n",
              "      <td>0.0</td>\n",
              "      <td>94.0</td>\n",
              "      <td>Personal Auto</td>\n",
              "      <td>Four-Door Car</td>\n",
              "      <td>1131.464935</td>\n",
              "    </tr>\n",
              "    <tr>\n",
              "      <th>2</th>\n",
              "      <td>AI49188</td>\n",
              "      <td>Nevada</td>\n",
              "      <td>F</td>\n",
              "      <td>1288743.17%</td>\n",
              "      <td>48767.0</td>\n",
              "      <td>108.0</td>\n",
              "      <td>Personal Auto</td>\n",
              "      <td>Two-Door Car</td>\n",
              "      <td>566.472247</td>\n",
              "    </tr>\n",
              "    <tr>\n",
              "      <th>3</th>\n",
              "      <td>WW63253</td>\n",
              "      <td>California</td>\n",
              "      <td>M</td>\n",
              "      <td>764586.18%</td>\n",
              "      <td>0.0</td>\n",
              "      <td>106.0</td>\n",
              "      <td>Corporate Auto</td>\n",
              "      <td>SUV</td>\n",
              "      <td>529.881344</td>\n",
              "    </tr>\n",
              "    <tr>\n",
              "      <th>4</th>\n",
              "      <td>GA49547</td>\n",
              "      <td>Washington</td>\n",
              "      <td>M</td>\n",
              "      <td>536307.65%</td>\n",
              "      <td>36357.0</td>\n",
              "      <td>68.0</td>\n",
              "      <td>Personal Auto</td>\n",
              "      <td>Four-Door Car</td>\n",
              "      <td>17.269323</td>\n",
              "    </tr>\n",
              "    <tr>\n",
              "      <th>...</th>\n",
              "      <td>...</td>\n",
              "      <td>...</td>\n",
              "      <td>...</td>\n",
              "      <td>...</td>\n",
              "      <td>...</td>\n",
              "      <td>...</td>\n",
              "      <td>...</td>\n",
              "      <td>...</td>\n",
              "      <td>...</td>\n",
              "    </tr>\n",
              "    <tr>\n",
              "      <th>7065</th>\n",
              "      <td>LA72316</td>\n",
              "      <td>California</td>\n",
              "      <td>M</td>\n",
              "      <td>23406</td>\n",
              "      <td>71941.0</td>\n",
              "      <td>73.0</td>\n",
              "      <td>Personal Auto</td>\n",
              "      <td>Four-Door Car</td>\n",
              "      <td>198.234764</td>\n",
              "    </tr>\n",
              "    <tr>\n",
              "      <th>7066</th>\n",
              "      <td>PK87824</td>\n",
              "      <td>California</td>\n",
              "      <td>F</td>\n",
              "      <td>3096.51</td>\n",
              "      <td>21604.0</td>\n",
              "      <td>79.0</td>\n",
              "      <td>Corporate Auto</td>\n",
              "      <td>Four-Door Car</td>\n",
              "      <td>379.200000</td>\n",
              "    </tr>\n",
              "    <tr>\n",
              "      <th>7067</th>\n",
              "      <td>TD14365</td>\n",
              "      <td>California</td>\n",
              "      <td>M</td>\n",
              "      <td>8163.89</td>\n",
              "      <td>0.0</td>\n",
              "      <td>85.0</td>\n",
              "      <td>Corporate Auto</td>\n",
              "      <td>Four-Door Car</td>\n",
              "      <td>790.784983</td>\n",
              "    </tr>\n",
              "    <tr>\n",
              "      <th>7068</th>\n",
              "      <td>UP19263</td>\n",
              "      <td>California</td>\n",
              "      <td>M</td>\n",
              "      <td>7524.44</td>\n",
              "      <td>21941.0</td>\n",
              "      <td>96.0</td>\n",
              "      <td>Personal Auto</td>\n",
              "      <td>Four-Door Car</td>\n",
              "      <td>691.200000</td>\n",
              "    </tr>\n",
              "    <tr>\n",
              "      <th>7069</th>\n",
              "      <td>Y167826</td>\n",
              "      <td>California</td>\n",
              "      <td>M</td>\n",
              "      <td>2611.84</td>\n",
              "      <td>0.0</td>\n",
              "      <td>77.0</td>\n",
              "      <td>Corporate Auto</td>\n",
              "      <td>Two-Door Car</td>\n",
              "      <td>369.600000</td>\n",
              "    </tr>\n",
              "  </tbody>\n",
              "</table>\n",
              "<p>12074 rows × 9 columns</p>\n",
              "</div>"
            ],
            "text/plain": [
              "     Customer       State  ...  Vehicle Class Total Claim Amount\n",
              "0     RB50392  Washington  ...  Four-Door Car           2.704934\n",
              "1     QZ44356     Arizona  ...  Four-Door Car        1131.464935\n",
              "2     AI49188      Nevada  ...   Two-Door Car         566.472247\n",
              "3     WW63253  California  ...            SUV         529.881344\n",
              "4     GA49547  Washington  ...  Four-Door Car          17.269323\n",
              "...       ...         ...  ...            ...                ...\n",
              "7065  LA72316  California  ...  Four-Door Car         198.234764\n",
              "7066  PK87824  California  ...  Four-Door Car         379.200000\n",
              "7067  TD14365  California  ...  Four-Door Car         790.784983\n",
              "7068  UP19263  California  ...  Four-Door Car         691.200000\n",
              "7069  Y167826  California  ...   Two-Door Car         369.600000\n",
              "\n",
              "[12074 rows x 9 columns]"
            ]
          },
          "metadata": {
            "tags": []
          },
          "execution_count": 57
        }
      ]
    },
    {
      "cell_type": "code",
      "metadata": {
        "colab": {
          "base_uri": "https://localhost:8080/",
          "height": 130
        },
        "id": "kofdMmHDGbac",
        "outputId": "61f587c8-ec10-4a63-8249-5f919cd9aeba"
      },
      "source": [
        "#Correct the values CLV = multiply the % by 100 and change dtype to numerical type\n",
        "def clean(x):\n",
        "  if x in ['Customer Lifetime Value']=%\n",
        "    return i * 100\n",
        "  else\n",
        "    return x\n",
        "data['Customer Lifetime Value'] = list(map(clean, data['Customer Lifetime Value']))"
      ],
      "execution_count": 59,
      "outputs": [
        {
          "output_type": "error",
          "ename": "SyntaxError",
          "evalue": "ignored",
          "traceback": [
            "\u001b[0;36m  File \u001b[0;32m\"<ipython-input-59-c2a1a702f366>\"\u001b[0;36m, line \u001b[0;32m2\u001b[0m\n\u001b[0;31m    if x in ['Customer Lifetime Value']=%\u001b[0m\n\u001b[0m                                       ^\u001b[0m\n\u001b[0;31mSyntaxError\u001b[0m\u001b[0;31m:\u001b[0m invalid syntax\n"
          ]
        }
      ]
    },
    {
      "cell_type": "code",
      "metadata": {
        "colab": {
          "base_uri": "https://localhost:8080/"
        },
        "id": "nY85Qu7hJuvu",
        "outputId": "45d05a36-1ddd-417b-be16-a392e9cc9090"
      },
      "source": [
        "data.shape"
      ],
      "execution_count": 67,
      "outputs": [
        {
          "output_type": "execute_result",
          "data": {
            "text/plain": [
              "(12074, 9)"
            ]
          },
          "metadata": {
            "tags": []
          },
          "execution_count": 67
        }
      ]
    },
    {
      "cell_type": "code",
      "metadata": {
        "id": "Wh6LET8XJ-g3"
      },
      "source": [
        "data1 = data.copy()\n",
        "data1 = data.drop_duplicates()"
      ],
      "execution_count": 68,
      "outputs": []
    },
    {
      "cell_type": "code",
      "metadata": {
        "colab": {
          "base_uri": "https://localhost:8080/"
        },
        "id": "qaRgKdi3KEH8",
        "outputId": "6851ea22-97f6-4282-d19b-13910df69bec"
      },
      "source": [
        "data1.shape"
      ],
      "execution_count": 71,
      "outputs": [
        {
          "output_type": "execute_result",
          "data": {
            "text/plain": [
              "(9135, 9)"
            ]
          },
          "metadata": {
            "tags": []
          },
          "execution_count": 71
        }
      ]
    },
    {
      "cell_type": "code",
      "metadata": {
        "id": "gK-3jAQXKFAx"
      },
      "source": [
        "data = data1"
      ],
      "execution_count": 72,
      "outputs": []
    },
    {
      "cell_type": "code",
      "metadata": {
        "colab": {
          "base_uri": "https://localhost:8080/"
        },
        "id": "RIPSHogpKlgt",
        "outputId": "f8a02a16-59b5-4b33-ee6e-90539b4896d8"
      },
      "source": [
        "data.shape"
      ],
      "execution_count": 73,
      "outputs": [
        {
          "output_type": "execute_result",
          "data": {
            "text/plain": [
              "(9135, 9)"
            ]
          },
          "metadata": {
            "tags": []
          },
          "execution_count": 73
        }
      ]
    },
    {
      "cell_type": "code",
      "metadata": {
        "colab": {
          "base_uri": "https://localhost:8080/",
          "height": 419
        },
        "id": "68Yvs-DeKmIg",
        "outputId": "021ffac4-75b4-4912-da5d-dcb4af196e12"
      },
      "source": [
        "data[data['Income']<=0]"
      ],
      "execution_count": 74,
      "outputs": [
        {
          "output_type": "execute_result",
          "data": {
            "text/html": [
              "<div>\n",
              "<style scoped>\n",
              "    .dataframe tbody tr th:only-of-type {\n",
              "        vertical-align: middle;\n",
              "    }\n",
              "\n",
              "    .dataframe tbody tr th {\n",
              "        vertical-align: top;\n",
              "    }\n",
              "\n",
              "    .dataframe thead th {\n",
              "        text-align: right;\n",
              "    }\n",
              "</style>\n",
              "<table border=\"1\" class=\"dataframe\">\n",
              "  <thead>\n",
              "    <tr style=\"text-align: right;\">\n",
              "      <th></th>\n",
              "      <th>Customer</th>\n",
              "      <th>State</th>\n",
              "      <th>Gender</th>\n",
              "      <th>Customer Lifetime Value</th>\n",
              "      <th>Income</th>\n",
              "      <th>Monthly Premium Auto</th>\n",
              "      <th>Policy Type</th>\n",
              "      <th>Vehicle Class</th>\n",
              "      <th>Total Claim Amount</th>\n",
              "    </tr>\n",
              "  </thead>\n",
              "  <tbody>\n",
              "    <tr>\n",
              "      <th>0</th>\n",
              "      <td>RB50392</td>\n",
              "      <td>Washington</td>\n",
              "      <td>NaN</td>\n",
              "      <td>NaN</td>\n",
              "      <td>0.0</td>\n",
              "      <td>1000.0</td>\n",
              "      <td>Personal Auto</td>\n",
              "      <td>Four-Door Car</td>\n",
              "      <td>2.704934</td>\n",
              "    </tr>\n",
              "    <tr>\n",
              "      <th>1</th>\n",
              "      <td>QZ44356</td>\n",
              "      <td>Arizona</td>\n",
              "      <td>F</td>\n",
              "      <td>697953.59%</td>\n",
              "      <td>0.0</td>\n",
              "      <td>94.0</td>\n",
              "      <td>Personal Auto</td>\n",
              "      <td>Four-Door Car</td>\n",
              "      <td>1131.464935</td>\n",
              "    </tr>\n",
              "    <tr>\n",
              "      <th>3</th>\n",
              "      <td>WW63253</td>\n",
              "      <td>California</td>\n",
              "      <td>M</td>\n",
              "      <td>764586.18%</td>\n",
              "      <td>0.0</td>\n",
              "      <td>106.0</td>\n",
              "      <td>Corporate Auto</td>\n",
              "      <td>SUV</td>\n",
              "      <td>529.881344</td>\n",
              "    </tr>\n",
              "    <tr>\n",
              "      <th>7</th>\n",
              "      <td>CF85061</td>\n",
              "      <td>Arizona</td>\n",
              "      <td>M</td>\n",
              "      <td>721610.03%</td>\n",
              "      <td>0.0</td>\n",
              "      <td>101.0</td>\n",
              "      <td>Corporate Auto</td>\n",
              "      <td>Four-Door Car</td>\n",
              "      <td>363.029680</td>\n",
              "    </tr>\n",
              "    <tr>\n",
              "      <th>10</th>\n",
              "      <td>SX51350</td>\n",
              "      <td>California</td>\n",
              "      <td>M</td>\n",
              "      <td>473899.20%</td>\n",
              "      <td>0.0</td>\n",
              "      <td>67.0</td>\n",
              "      <td>Personal Auto</td>\n",
              "      <td>Four-Door Car</td>\n",
              "      <td>482.400000</td>\n",
              "    </tr>\n",
              "    <tr>\n",
              "      <th>...</th>\n",
              "      <td>...</td>\n",
              "      <td>...</td>\n",
              "      <td>...</td>\n",
              "      <td>...</td>\n",
              "      <td>...</td>\n",
              "      <td>...</td>\n",
              "      <td>...</td>\n",
              "      <td>...</td>\n",
              "      <td>...</td>\n",
              "    </tr>\n",
              "    <tr>\n",
              "      <th>7059</th>\n",
              "      <td>WZ45103</td>\n",
              "      <td>California</td>\n",
              "      <td>F</td>\n",
              "      <td>5678.05</td>\n",
              "      <td>0.0</td>\n",
              "      <td>76.0</td>\n",
              "      <td>Personal Auto</td>\n",
              "      <td>Four-Door Car</td>\n",
              "      <td>364.800000</td>\n",
              "    </tr>\n",
              "    <tr>\n",
              "      <th>7061</th>\n",
              "      <td>RX91025</td>\n",
              "      <td>California</td>\n",
              "      <td>M</td>\n",
              "      <td>19872.3</td>\n",
              "      <td>0.0</td>\n",
              "      <td>185.0</td>\n",
              "      <td>Personal Auto</td>\n",
              "      <td>SUV</td>\n",
              "      <td>1950.725547</td>\n",
              "    </tr>\n",
              "    <tr>\n",
              "      <th>7062</th>\n",
              "      <td>AC13887</td>\n",
              "      <td>California</td>\n",
              "      <td>M</td>\n",
              "      <td>4629</td>\n",
              "      <td>0.0</td>\n",
              "      <td>67.0</td>\n",
              "      <td>Corporate Auto</td>\n",
              "      <td>Two-Door Car</td>\n",
              "      <td>482.400000</td>\n",
              "    </tr>\n",
              "    <tr>\n",
              "      <th>7067</th>\n",
              "      <td>TD14365</td>\n",
              "      <td>California</td>\n",
              "      <td>M</td>\n",
              "      <td>8163.89</td>\n",
              "      <td>0.0</td>\n",
              "      <td>85.0</td>\n",
              "      <td>Corporate Auto</td>\n",
              "      <td>Four-Door Car</td>\n",
              "      <td>790.784983</td>\n",
              "    </tr>\n",
              "    <tr>\n",
              "      <th>7069</th>\n",
              "      <td>Y167826</td>\n",
              "      <td>California</td>\n",
              "      <td>M</td>\n",
              "      <td>2611.84</td>\n",
              "      <td>0.0</td>\n",
              "      <td>77.0</td>\n",
              "      <td>Corporate Auto</td>\n",
              "      <td>Two-Door Car</td>\n",
              "      <td>369.600000</td>\n",
              "    </tr>\n",
              "  </tbody>\n",
              "</table>\n",
              "<p>2294 rows × 9 columns</p>\n",
              "</div>"
            ],
            "text/plain": [
              "     Customer       State  ...  Vehicle Class Total Claim Amount\n",
              "0     RB50392  Washington  ...  Four-Door Car           2.704934\n",
              "1     QZ44356     Arizona  ...  Four-Door Car        1131.464935\n",
              "3     WW63253  California  ...            SUV         529.881344\n",
              "7     CF85061     Arizona  ...  Four-Door Car         363.029680\n",
              "10    SX51350  California  ...  Four-Door Car         482.400000\n",
              "...       ...         ...  ...            ...                ...\n",
              "7059  WZ45103  California  ...  Four-Door Car         364.800000\n",
              "7061  RX91025  California  ...            SUV        1950.725547\n",
              "7062  AC13887  California  ...   Two-Door Car         482.400000\n",
              "7067  TD14365  California  ...  Four-Door Car         790.784983\n",
              "7069  Y167826  California  ...   Two-Door Car         369.600000\n",
              "\n",
              "[2294 rows x 9 columns]"
            ]
          },
          "metadata": {
            "tags": []
          },
          "execution_count": 74
        }
      ]
    },
    {
      "cell_type": "code",
      "metadata": {
        "id": "W1GpoECeKz4b"
      },
      "source": [
        ""
      ],
      "execution_count": null,
      "outputs": []
    }
  ]
}